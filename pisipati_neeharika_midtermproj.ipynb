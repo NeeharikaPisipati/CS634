{
  "nbformat": 4,
  "nbformat_minor": 0,
  "metadata": {
    "colab": {
      "name": "pisipati_neeharika_midtermproj.ipynb",
      "provenance": []
    },
    "kernelspec": {
      "name": "python3",
      "display_name": "Python 3"
    },
    "language_info": {
      "name": "python"
    }
  },
  "cells": [
    {
      "cell_type": "code",
      "metadata": {
        "id": "ejxy3IgyJuG9"
      },
      "source": [
        "import csv\n",
        "import numpy as np\n",
        "import io\n",
        "import sys"
      ],
      "execution_count": 35,
      "outputs": []
    },
    {
      "cell_type": "code",
      "metadata": {
        "colab": {
          "resources": {
            "http://localhost:8080/nbextensions/google.colab/files.js": {
              "data": "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",
              "ok": true,
              "headers": [
                [
                  "content-type",
                  "application/javascript"
                ]
              ],
              "status": 200,
              "status_text": ""
            }
          },
          "base_uri": "https://localhost:8080/",
          "height": 207
        },
        "id": "XQu1Wgwmsv9I",
        "outputId": "bab24f16-b8bc-4ae3-9015-f8714ac9a814"
      },
      "source": [
        "from google.colab import files\n",
        "uploaded = files.upload()"
      ],
      "execution_count": 36,
      "outputs": [
        {
          "output_type": "display_data",
          "data": {
            "text/html": [
              "\n",
              "     <input type=\"file\" id=\"files-bd3ad1f0-795f-48d2-8fcb-09d772b07f29\" name=\"files[]\" multiple disabled\n",
              "        style=\"border:none\" />\n",
              "     <output id=\"result-bd3ad1f0-795f-48d2-8fcb-09d772b07f29\">\n",
              "      Upload widget is only available when the cell has been executed in the\n",
              "      current browser session. Please rerun this cell to enable.\n",
              "      </output>\n",
              "      <script src=\"/nbextensions/google.colab/files.js\"></script> "
            ],
            "text/plain": [
              "<IPython.core.display.HTML object>"
            ]
          },
          "metadata": {}
        },
        {
          "output_type": "stream",
          "name": "stdout",
          "text": [
            "Saving transaction1.csv to transaction1 (1).csv\n",
            "Saving transaction2.csv to transaction2 (1).csv\n",
            "Saving transaction3.csv to transaction3 (1).csv\n",
            "Saving transaction4.csv to transaction4 (1).csv\n",
            "Saving transaction5.csv to transaction5 (1).csv\n"
          ]
        }
      ]
    },
    {
      "cell_type": "code",
      "metadata": {
        "id": "HkDNLQm1aJ5E"
      },
      "source": [
        "# defining all the input transactions as the input database\n",
        "\n",
        "def load_database(transaction): \n",
        "\n",
        "    with open(transaction,'r') as transaction_csv:\n",
        "\n",
        "      #Read a comma-separated values (csv) file into DataFrame.\n",
        "        read_csv = csv.reader(transaction_csv, delimiter=',')\n",
        "        next(read_csv)\n",
        "        rows = []\n",
        "      \n",
        "\n",
        "        #add rows at the end to the existing dataframe.\n",
        "        for row in read_csv:\n",
        "            rows.append(row[1])\n",
        "\n",
        "        #Split the data by using the , separator\n",
        "        for row in transaction_csv:\n",
        "          str_line=list(lines.strip().split(\",\"))\n",
        "          _t=list(np.unique(str_line))\n",
        "          #item order in the list\n",
        "          _t.sorted(key=lambda x:order.index(x))\n",
        "\n",
        "    return rows \n"
      ],
      "execution_count": 76,
      "outputs": []
    },
    {
      "cell_type": "code",
      "metadata": {
        "id": "L7TVc-lNlilK"
      },
      "source": [
        "#Function to find out all the possible subsets of the data for each of the dataset.\n",
        "def subsets(s):\n",
        "    length_s = len(s)\n",
        "    possible_subsets = []\n",
        "    #Bitwise operation to check boolean values.\n",
        "    for i in range(1 << length_s):      \n",
        "        possible_subsets.append([s[j] for j in range(length_s) if (i & (1 << j))])       \n",
        "    return possible_subsets\n",
        "    print()\n",
        "\n",
        "#Function to calculate the support for each of the items in the item set. Support(A) = (Transactions containing (A))/(Total Transactions)\n",
        "def support_calculated(data, items):\n",
        "    support = 0\n",
        "    for row in data:\n",
        "        if set(items).issubset(row):\n",
        "            support += 1\n",
        "    return support\n",
        "    print()"
      ],
      "execution_count": 83,
      "outputs": []
    },
    {
      "cell_type": "code",
      "metadata": {
        "id": "LVe77pNpaW2Q"
      },
      "source": [
        "#Function to find the association between the frequent items\n",
        "def association1(data, freq_items, dist_items, min_conf):\n",
        "    alist = []\n",
        "    for item in freq_items:\n",
        "        powerset = subsets(item)\n",
        "        for p in powerset:\n",
        "            l = set(p)\n",
        "            r = set(item) - l\n",
        "            if len(l) and len(r):\n",
        "                support_lhs = support_calculated(data, l)\n",
        "                if support_lhs == 0:\n",
        "                    continue\n",
        "                confidence = support_calculated(data, item) * 100 / support_lhs\n",
        "                if confidence < min_conf:\n",
        "                    continue\n",
        "                lhs_items = [dist_items[i] for i in l]\n",
        "                rhs_items = [dist_items[i] for i in r]\n",
        "                alist.append((lhs_items, rhs_items, confidence))\n",
        "    return alist"
      ],
      "execution_count": 84,
      "outputs": []
    },
    {
      "cell_type": "code",
      "metadata": {
        "id": "tXRi3WTRaZjZ"
      },
      "source": [
        "#Function to compare the support to that of the new frequent items in the dataset.\n",
        "def compare(data, elements, min_support):\n",
        "    frequent_items = []\n",
        "    non_frequent_items = []\n",
        "    if elements is not None:\n",
        "        for e in elements:\n",
        "            if(support_calculated(data, e) >= min_support):\n",
        "                frequent_items.append(e)\n",
        "            else:\n",
        "                non_frequent_items.append(e)\n",
        "    return frequent_items, non_frequent_items\n",
        "\n",
        "\n",
        "def new(pos_freq_elements, neg_freq_elements):\n",
        "    new = {}\n",
        "    total_pos_items = len(pos_freq_elements)\n",
        "    if total_pos_items == 0:\n",
        "        return []\n",
        "    len_each_item = len(pos_freq_elements[0])\n",
        "    for left in range(0, total_pos_items):\n",
        "        for right in range(left+1, total_pos_items):\n",
        "            merged = tuple(sorted(set(pos_freq_elements[left]).union(set(pos_freq_elements[right]))))\n",
        "            if len(merged) == len_each_item + 1 and not check_non_frequent_item(merged, neg_freq_elements):\n",
        "                new[merged] = 1\n",
        "    return [list(i) for i in new.keys()]\n",
        "def check_non_frequent_item(element, non_freq_elements):\n",
        "    all_pos = subsets(element)\n",
        "    for item in all_pos:\n",
        "        if item in non_freq_elements:\n",
        "            return True\n",
        "    return False"
      ],
      "execution_count": 85,
      "outputs": []
    },
    {
      "cell_type": "code",
      "metadata": {
        "id": "j_buBvvMapFa"
      },
      "source": [
        "def unique_items(rows):\n",
        "    items_in_row = []\n",
        "    for row in rows:\n",
        "        items_in_row.extend(row.split(\",\"))\n",
        "        \n",
        "    return list(set(items_in_row))\n",
        "\n",
        "def unique_val(all_rows, dst_its):\n",
        "    rows = []\n",
        "    for row in all_rows:\n",
        "        rows.append(sorted([dst_its.index(item) for item in row.split(\",\")]))\n",
        "    return rows\n",
        "\n",
        "def association_rule(transaction, min_support, min_conf):\n",
        "    all_rows = load_database(transaction) # load_database()\n",
        "    dist_items = unique_items(all_rows)\n",
        "    num_distinct_items = len(dist_items)\n",
        "    data = unique_val(all_rows, dist_items)\n",
        "    \n",
        "    freq_items = apriori_algorithm(data, num_distinct_items, min_support, min_conf)\n",
        "    alist = association1(data, freq_items, dist_items, min_conf)\n",
        "    print(\"Total number of items in association list is {}\".format(len(alist)))\n",
        "    for item in alist:\n",
        "        lhs_items, rhs_items, confidence = item\n",
        "        print(\"{} -->> {} : {}\".format(lhs_items, rhs_items, confidence))"
      ],
      "execution_count": 86,
      "outputs": []
    },
    {
      "cell_type": "code",
      "metadata": {
        "id": "4cu6XUXO_gXg"
      },
      "source": [
        "def apriori_algorithm(data, item_size, min_support, min_conf):\n",
        "    freq_items = []\n",
        "    non_freq_items = []\n",
        "    items = range(0, item_size)\n",
        "    min_support_value = int(len(data) * min_support / 100.0)\n",
        "    new_freq_elements = [[i] for i in items]\n",
        "    pos_freq_elements, neg_freq_elements = compare(data, new_freq_elements, min_support_value)\n",
        "    freq_items.extend(pos_freq_elements)\n",
        "    non_freq_items.extend(neg_freq_elements)\n",
        "        \n",
        "    for k in range(2,item_size+1):\n",
        "        new_freq_elements = new(pos_freq_elements, non_freq_items)\n",
        "        pos_freq_elements, neg_freq_elements = compare(data, new_freq_elements, min_support_value)\n",
        "        if not pos_freq_elements:\n",
        "            break\n",
        "        freq_items.extend(pos_freq_elements)\n",
        "        non_freq_items.extend(neg_freq_elements)\n",
        "    \n",
        "    return freq_items"
      ],
      "execution_count": 87,
      "outputs": []
    },
    {
      "cell_type": "code",
      "metadata": {
        "colab": {
          "base_uri": "https://localhost:8080/"
        },
        "id": "_hOLtz5Barva",
        "outputId": "f0259235-08a8-4eaa-825d-0233cc07c3b9"
      },
      "source": [
        "print(\"For transactional database1 \")\n",
        "transaction = 'transaction1.csv'\n",
        "min_support = input(\"Enter support: \")\n",
        "min_conf = input(\"Enter Confidence: \")\n",
        "print(\"Association Rules :\")\n",
        "association_rule(transaction, float(min_support), float(min_conf))\n"
      ],
      "execution_count": 92,
      "outputs": [
        {
          "output_type": "stream",
          "name": "stdout",
          "text": [
            "For transactional database1 \n",
            "Enter support: 15\n",
            "Enter Confidence: 75\n",
            "Association Rules :\n",
            "Total number of items in association list is 60\n",
            "['Meat'] -->> [' Fruits'] : 75.0\n",
            "[' Cheese'] -->> [' Fruits'] : 83.33333333333333\n",
            "['Cheese'] -->> [' Vegetables'] : 100.0\n",
            "['Meat'] -->> [' Dairy'] : 75.0\n",
            "[' Snacks'] -->> [' Dairy'] : 75.0\n",
            "[' Eggs'] -->> [' Dairy'] : 100.0\n",
            "['Meat'] -->> [' Vegetables'] : 75.0\n",
            "['Meat'] -->> [' Cheese'] : 75.0\n",
            "['Meat'] -->> [' Snacks'] : 75.0\n",
            "['Snacks'] -->> [' Beverage'] : 100.0\n",
            "[' Seafood'] -->> [' Vegetables'] : 80.0\n",
            "['Meat'] -->> [' Fruits', ' Dairy'] : 75.0\n",
            "[' Fruits', 'Meat'] -->> [' Dairy'] : 100.0\n",
            "[' Dairy', 'Meat'] -->> [' Fruits'] : 100.0\n",
            "[' Fruits', ' Vegetables'] -->> [' Dairy'] : 80.0\n",
            "[' Fruits', ' Cheese'] -->> [' Dairy'] : 80.0\n",
            "[' Dairy', ' Cheese'] -->> [' Fruits'] : 100.0\n",
            "[' Fruits', ' Eggs'] -->> [' Dairy'] : 100.0\n",
            "['Meat'] -->> [' Fruits', ' Snacks'] : 75.0\n",
            "[' Fruits', 'Meat'] -->> [' Snacks'] : 100.0\n",
            "[' Snacks', 'Meat'] -->> [' Fruits'] : 100.0\n",
            "[' Fruits', ' Bread'] -->> [' Beverage'] : 75.0\n",
            "[' Bread', ' Beverage'] -->> [' Fruits'] : 100.0\n",
            "[' Snacks', ' Beverage'] -->> [' Fruits'] : 100.0\n",
            "[' Fruits', ' Bread'] -->> [' Snacks'] : 75.0\n",
            "[' Snacks', ' Bread'] -->> [' Fruits'] : 75.0\n",
            "[' Snacks', ' Cheese'] -->> [' Fruits'] : 100.0\n",
            "['Meat'] -->> [' Snacks', ' Dairy'] : 75.0\n",
            "[' Dairy', 'Meat'] -->> [' Snacks'] : 100.0\n",
            "[' Snacks', 'Meat'] -->> [' Dairy'] : 100.0\n",
            "[' Eggs', ' Beverage'] -->> [' Dairy'] : 100.0\n",
            "[' Dairy', ' Seafood'] -->> [' Vegetables'] : 100.0\n",
            "[' Vegetables', ' Seafood'] -->> [' Dairy'] : 75.0\n",
            "[' Vegetables', ' Snacks'] -->> [' Dairy'] : 80.0\n",
            "[' Vegetables', ' Eggs'] -->> [' Dairy'] : 100.0\n",
            "[' Snacks', ' Eggs'] -->> [' Dairy'] : 100.0\n",
            "[' Bread', ' Beverage'] -->> [' Snacks'] : 100.0\n",
            "[' Snacks', ' Beverage'] -->> [' Bread'] : 100.0\n",
            "[' Snacks', ' Bread'] -->> [' Beverage'] : 75.0\n",
            "[' Vegetables', ' Bread'] -->> [' Snacks'] : 75.0\n",
            "[' Snacks', ' Bread'] -->> [' Vegetables'] : 75.0\n",
            "[' Seafood', ' Bread'] -->> [' Snacks'] : 100.0\n",
            "[' Snacks', ' Seafood'] -->> [' Bread'] : 100.0\n",
            "[' Snacks', ' Bread'] -->> [' Seafood'] : 75.0\n",
            "['Meat'] -->> [' Fruits', ' Snacks', ' Dairy'] : 75.0\n",
            "[' Fruits', 'Meat'] -->> [' Snacks', ' Dairy'] : 100.0\n",
            "[' Dairy', 'Meat'] -->> [' Fruits', ' Snacks'] : 100.0\n",
            "[' Fruits', ' Dairy', 'Meat'] -->> [' Snacks'] : 100.0\n",
            "[' Fruits', ' Snacks', ' Dairy'] -->> ['Meat'] : 100.0\n",
            "[' Snacks', 'Meat'] -->> [' Fruits', ' Dairy'] : 100.0\n",
            "[' Fruits', ' Snacks', 'Meat'] -->> [' Dairy'] : 100.0\n",
            "[' Snacks', ' Dairy', 'Meat'] -->> [' Fruits'] : 100.0\n",
            "[' Fruits', ' Bread'] -->> [' Snacks', ' Beverage'] : 75.0\n",
            "[' Bread', ' Beverage'] -->> [' Fruits', ' Snacks'] : 100.0\n",
            "[' Fruits', ' Bread', ' Beverage'] -->> [' Snacks'] : 100.0\n",
            "[' Snacks', ' Beverage'] -->> [' Fruits', ' Bread'] : 100.0\n",
            "[' Fruits', ' Snacks', ' Beverage'] -->> [' Bread'] : 100.0\n",
            "[' Snacks', ' Bread'] -->> [' Fruits', ' Beverage'] : 75.0\n",
            "[' Fruits', ' Snacks', ' Bread'] -->> [' Beverage'] : 100.0\n",
            "[' Snacks', ' Bread', ' Beverage'] -->> [' Fruits'] : 100.0\n"
          ]
        }
      ]
    },
    {
      "cell_type": "code",
      "metadata": {
        "colab": {
          "base_uri": "https://localhost:8080/"
        },
        "id": "7Na_eRA70zRt",
        "outputId": "8b31b3a6-d1f9-41e0-82e1-1cf49ac22bea"
      },
      "source": [
        "print(\"For transactional database2 \")\n",
        "transaction = 'transaction2.csv'\n",
        "min_support = input(\"Enter the minimum support: \")\n",
        "min_conf = input(\"Enter the minimum Confidence: \")\n",
        "print(\"Association Rules :\")\n",
        "association_rule(transaction, float(min_support), float(min_conf))\n",
        "print()"
      ],
      "execution_count": 90,
      "outputs": [
        {
          "output_type": "stream",
          "name": "stdout",
          "text": [
            "For transactional database2 \n",
            "Enter the minimum support: 10\n",
            "Enter the minimum Confidence: 10\n",
            "Association Rules :\n",
            "Total number of items in association list is 106\n",
            "[' crayons'] -->> [' pen'] : 28.571428571428573\n",
            "[' pen'] -->> [' crayons'] : 20.0\n",
            "[' crayons'] -->> ['clip'] : 28.571428571428573\n",
            "['clip'] -->> [' crayons'] : 40.0\n",
            "[' crayons'] -->> [' eraser'] : 57.142857142857146\n",
            "[' eraser'] -->> [' crayons'] : 57.142857142857146\n",
            "[' crayons'] -->> [' sharpner'] : 71.42857142857143\n",
            "[' sharpner'] -->> [' crayons'] : 55.55555555555556\n",
            "[' crayons'] -->> [' pin'] : 28.571428571428573\n",
            "[' pin'] -->> [' crayons'] : 25.0\n",
            "[' crayons'] -->> [' book'] : 28.571428571428573\n",
            "[' book'] -->> [' crayons'] : 40.0\n",
            "[' ruler'] -->> [' pen'] : 60.0\n",
            "[' pen'] -->> [' ruler'] : 30.0\n",
            "[' ruler'] -->> ['eraser'] : 80.0\n",
            "['eraser'] -->> [' ruler'] : 80.0\n",
            "[' ruler'] -->> [' pencil'] : 40.0\n",
            "[' pencil'] -->> [' ruler'] : 33.333333333333336\n",
            "['tape'] -->> [' book'] : 100.0\n",
            "[' book'] -->> ['tape'] : 40.0\n",
            "[' pen'] -->> ['clip'] : 20.0\n",
            "['clip'] -->> [' pen'] : 40.0\n",
            "[' pen'] -->> [' eraser'] : 20.0\n",
            "[' eraser'] -->> [' pen'] : 28.571428571428573\n",
            "[' pen'] -->> [' tape'] : 40.0\n",
            "[' tape'] -->> [' pen'] : 100.0\n",
            "[' pen'] -->> ['eraser'] : 30.0\n",
            "['eraser'] -->> [' pen'] : 60.0\n",
            "[' pen'] -->> [' sharpner'] : 40.0\n",
            "[' sharpner'] -->> [' pen'] : 44.44444444444444\n",
            "[' pen'] -->> [' pencil'] : 30.0\n",
            "[' pencil'] -->> [' pen'] : 50.0\n",
            "[' pen'] -->> [' pin'] : 20.0\n",
            "[' pin'] -->> [' pen'] : 25.0\n",
            "[' pen'] -->> [' book'] : 20.0\n",
            "[' book'] -->> [' pen'] : 40.0\n",
            "['clip'] -->> [' sharpner'] : 40.0\n",
            "[' sharpner'] -->> ['clip'] : 22.22222222222222\n",
            "['clip'] -->> [' pin'] : 60.0\n",
            "[' pin'] -->> ['clip'] : 37.5\n",
            "[' eraser'] -->> [' sharpner'] : 42.857142857142854\n",
            "[' sharpner'] -->> [' eraser'] : 33.333333333333336\n",
            "[' eraser'] -->> [' pin'] : 42.857142857142854\n",
            "[' pin'] -->> [' eraser'] : 37.5\n",
            "[' eraser'] -->> [' book'] : 28.571428571428573\n",
            "[' book'] -->> [' eraser'] : 40.0\n",
            "['pen'] -->> [' pin'] : 100.0\n",
            "[' pin'] -->> ['pen'] : 25.0\n",
            "[' tape'] -->> [' pencil'] : 50.0\n",
            "[' pencil'] -->> [' tape'] : 33.333333333333336\n",
            "['eraser'] -->> [' sharpner'] : 40.0\n",
            "[' sharpner'] -->> ['eraser'] : 22.22222222222222\n",
            "['eraser'] -->> [' pencil'] : 60.0\n",
            "[' pencil'] -->> ['eraser'] : 50.0\n",
            "[' sharpner'] -->> [' pencil'] : 22.22222222222222\n",
            "[' pencil'] -->> [' sharpner'] : 33.333333333333336\n",
            "[' sharpner'] -->> [' pin'] : 44.44444444444444\n",
            "[' pin'] -->> [' sharpner'] : 50.0\n",
            "[' sharpner'] -->> [' book'] : 22.22222222222222\n",
            "[' book'] -->> [' sharpner'] : 40.0\n",
            "[' pencil'] -->> [' pin'] : 33.333333333333336\n",
            "[' pin'] -->> [' pencil'] : 25.0\n",
            "[' pin'] -->> [' book'] : 37.5\n",
            "[' book'] -->> [' pin'] : 60.0\n",
            "[' crayons'] -->> [' sharpner', ' eraser'] : 42.857142857142854\n",
            "[' eraser'] -->> [' crayons', ' sharpner'] : 42.857142857142854\n",
            "[' crayons', ' eraser'] -->> [' sharpner'] : 75.0\n",
            "[' sharpner'] -->> [' crayons', ' eraser'] : 33.333333333333336\n",
            "[' crayons', ' sharpner'] -->> [' eraser'] : 60.0\n",
            "[' sharpner', ' eraser'] -->> [' crayons'] : 100.0\n",
            "[' crayons'] -->> [' pin', ' sharpner'] : 28.571428571428573\n",
            "[' sharpner'] -->> [' crayons', ' pin'] : 22.22222222222222\n",
            "[' crayons', ' sharpner'] -->> [' pin'] : 40.0\n",
            "[' pin'] -->> [' crayons', ' sharpner'] : 25.0\n",
            "[' crayons', ' pin'] -->> [' sharpner'] : 100.0\n",
            "[' pin', ' sharpner'] -->> [' crayons'] : 50.0\n",
            "[' ruler'] -->> ['eraser', ' pen'] : 60.0\n",
            "[' pen'] -->> [' ruler', 'eraser'] : 30.0\n",
            "[' ruler', ' pen'] -->> ['eraser'] : 100.0\n",
            "['eraser'] -->> [' ruler', ' pen'] : 60.0\n",
            "[' ruler', 'eraser'] -->> [' pen'] : 75.0\n",
            "['eraser', ' pen'] -->> [' ruler'] : 100.0\n",
            "[' ruler'] -->> ['eraser', ' pencil'] : 40.0\n",
            "['eraser'] -->> [' ruler', ' pencil'] : 40.0\n",
            "[' ruler', 'eraser'] -->> [' pencil'] : 50.0\n",
            "[' pencil'] -->> [' ruler', 'eraser'] : 33.333333333333336\n",
            "[' ruler', ' pencil'] -->> ['eraser'] : 100.0\n",
            "['eraser', ' pencil'] -->> [' ruler'] : 66.66666666666667\n",
            "[' pen'] -->> [' tape', ' pencil'] : 20.0\n",
            "[' tape'] -->> [' pen', ' pencil'] : 50.0\n",
            "[' tape', ' pen'] -->> [' pencil'] : 50.0\n",
            "[' pencil'] -->> [' tape', ' pen'] : 33.333333333333336\n",
            "[' pen', ' pencil'] -->> [' tape'] : 66.66666666666667\n",
            "[' tape', ' pencil'] -->> [' pen'] : 100.0\n",
            "['clip'] -->> [' pin', ' sharpner'] : 40.0\n",
            "[' sharpner'] -->> [' pin', 'clip'] : 22.22222222222222\n",
            "[' sharpner', 'clip'] -->> [' pin'] : 100.0\n",
            "[' pin'] -->> [' sharpner', 'clip'] : 25.0\n",
            "[' pin', 'clip'] -->> [' sharpner'] : 66.66666666666667\n",
            "[' pin', ' sharpner'] -->> ['clip'] : 50.0\n",
            "[' sharpner'] -->> [' pin', ' book'] : 22.22222222222222\n",
            "[' pin'] -->> [' book', ' sharpner'] : 25.0\n",
            "[' pin', ' sharpner'] -->> [' book'] : 50.0\n",
            "[' book'] -->> [' pin', ' sharpner'] : 40.0\n",
            "[' book', ' sharpner'] -->> [' pin'] : 100.0\n",
            "[' pin', ' book'] -->> [' sharpner'] : 66.66666666666667\n",
            "\n"
          ]
        }
      ]
    },
    {
      "cell_type": "code",
      "metadata": {
        "colab": {
          "base_uri": "https://localhost:8080/"
        },
        "id": "dcyKV7tV00OS",
        "outputId": "d2b0dc23-13b7-4fb1-86f2-b09ca89f4b05"
      },
      "source": [
        "print(\"For transactional database3 \")\n",
        "transaction = 'transaction3.csv'\n",
        "min_support = input(\"Enter the minimum support: \")\n",
        "min_conf = input(\"Enter the minimum Confidence: \")\n",
        "print(\"Association Rules :\")\n",
        "association_rule(transaction, float(min_support), float(min_conf))"
      ],
      "execution_count": 93,
      "outputs": [
        {
          "output_type": "stream",
          "name": "stdout",
          "text": [
            "For transactional database3 \n",
            "Enter the minimum support: 50\n",
            "Enter the minimum Confidence: 75\n",
            "Association Rules :\n",
            "Total number of items in association list is 0\n"
          ]
        }
      ]
    },
    {
      "cell_type": "code",
      "metadata": {
        "colab": {
          "base_uri": "https://localhost:8080/"
        },
        "id": "vtevHPpC04CF",
        "outputId": "db91fbed-bf65-478f-a7d4-e0bcc66c533e"
      },
      "source": [
        "print(\"For transactional database4 \")\n",
        "transaction = 'transaction4.csv'\n",
        "min_support = input(\"Enter the minimum support: \")\n",
        "min_conf = input(\"Enter the minimum Confidence: \")\n",
        "print(\"Association Rules :\")\n",
        "association_rule(transaction, float(min_support), float(min_conf))"
      ],
      "execution_count": 94,
      "outputs": [
        {
          "output_type": "stream",
          "name": "stdout",
          "text": [
            "For transactional database4 \n",
            "Enter the minimum support: 50\n",
            "Enter the minimum Confidence: 75\n",
            "Association Rules :\n",
            "Total number of items in association list is 2\n",
            "[' TV stand'] -->> [' chair'] : 76.92307692307692\n",
            "[' coffee table'] -->> [' chair'] : 78.57142857142857\n"
          ]
        }
      ]
    },
    {
      "cell_type": "code",
      "metadata": {
        "colab": {
          "base_uri": "https://localhost:8080/"
        },
        "id": "LzXld3GF07xh",
        "outputId": "fc37d666-0618-4244-dc87-4bb5359d9380"
      },
      "source": [
        "print(\"For transactional database5 \")\n",
        "transaction = 'transaction5.csv'\n",
        "min_support = input(\"Enter the minimum support: \")\n",
        "min_conf = input(\"Enter the minimum Confidence: \")\n",
        "print(\"Association Rules :\")\n",
        "association_rule(transaction, float(min_support), float(min_conf))\n"
      ],
      "execution_count": 96,
      "outputs": [
        {
          "output_type": "stream",
          "name": "stdout",
          "text": [
            "For transactional database5 \n",
            "Enter the minimum support: 25\n",
            "Enter the minimum Confidence: 40\n",
            "Association Rules :\n",
            "Total number of items in association list is 14\n",
            "[' dress'] -->> [' jacket '] : 50.0\n",
            "[' jacket '] -->> [' dress'] : 83.33333333333333\n",
            "[' dress'] -->> [' jeans'] : 50.0\n",
            "[' jeans'] -->> [' dress'] : 62.5\n",
            "[' dress'] -->> [' sweatshirt'] : 60.0\n",
            "[' sweatshirt'] -->> [' dress'] : 85.71428571428571\n",
            "[' jacket '] -->> [' sweatshirt'] : 83.33333333333333\n",
            "[' sweatshirt'] -->> [' jacket '] : 71.42857142857143\n",
            "[' dress'] -->> [' jacket ', ' sweatshirt'] : 50.0\n",
            "[' jacket '] -->> [' dress', ' sweatshirt'] : 83.33333333333333\n",
            "[' dress', ' jacket '] -->> [' sweatshirt'] : 100.0\n",
            "[' sweatshirt'] -->> [' dress', ' jacket '] : 71.42857142857143\n",
            "[' dress', ' sweatshirt'] -->> [' jacket '] : 83.33333333333333\n",
            "[' jacket ', ' sweatshirt'] -->> [' dress'] : 100.0\n"
          ]
        }
      ]
    }
  ]
}